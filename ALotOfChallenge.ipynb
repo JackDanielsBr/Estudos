{
 "cells": [
  {
   "cell_type": "code",
   "execution_count": null,
   "metadata": {},
   "outputs": [],
   "source": [
    "## CHALLENGE 1 - Ask for the user’s first name and display the output message \n",
    "\n",
    "\n",
    "nome = input(\"Digite seu nome aqui\")\n",
    "print(nome)"
   ]
  },
  {
   "cell_type": "code",
   "execution_count": null,
   "metadata": {},
   "outputs": [],
   "source": [
    "## CHALLENGE 2 - Ask for the user’s first name and then ask for their surname and display the output message\n",
    "\n",
    "primeiro_nome = input(\"Digite seu nome aqui\")\n",
    "ultimo_nome = input(\"Digite seu sobrenome aqui\")\n",
    "nome_completo = primeiro_nome + ultimo_nome\n",
    "print(nome_completo)"
   ]
  },
  {
   "cell_type": "code",
   "execution_count": null,
   "metadata": {},
   "outputs": [],
   "source": [
    "# CHALLENGE 3 - Write code that will display the joke “What do you call a bear with no  teeth?” and on the next line display the answer “A gummy bear!” Try to create it using only one line of code.\n",
    "\n",
    "print(\"What do you call a bear with no teeth?\")\n",
    "print(\"A gummy bear\")"
   ]
  },
  {
   "cell_type": "code",
   "execution_count": null,
   "metadata": {},
   "outputs": [],
   "source": [
    "## CHALLENGE 4 - Ask the user to enter two numbers. Add them together and display the answer as The total is [answer]. \n",
    "\n",
    "numero1 = int(input(\"Digite o primeiro número aqui\"))\n",
    "numero2 = int(input(\"Digite o segundo número aqui\"))\n",
    "soma = numero1 + numero2\n",
    "print(\"A soma final é:\", soma)"
   ]
  },
  {
   "cell_type": "code",
   "execution_count": null,
   "metadata": {},
   "outputs": [],
   "source": [
    "## CHALLENGE 5 - Ask the user to enter three numbers. Add together the first two numbers and then multiply this total by the third. Display the answer as The answer is [answer]. \n",
    "\n",
    "numero1 = int(input(\"Digite o primeiro número aqui\"))\n",
    "numero2 = int(input(\"Digite o segundo número aqui\"))\n",
    "numero3 = int(input(\"Digite o segundo número aqui\"))\n",
    "\n",
    "equacao = (numero1+numero2)*numero3\n",
    "\n",
    "print(\"A soma final é:\", equacao)"
   ]
  },
  {
   "cell_type": "code",
   "execution_count": null,
   "metadata": {},
   "outputs": [],
   "source": [
    "## CHALLENGE 6 - Ask how many slices of pizza the user started with and ask how many slices they have eaten. Work out how many slices they have left and display the answer in a user\u0002friendly format\n",
    "\n",
    "\n",
    "pizza_inicial = int(input(\"Quantos pedaços de pizza tinha no começo?\"))\n",
    "pizza_comida = int(input(\"Quantos pedaços de pizza tu já comeu?\"))\n",
    "\n",
    "pizza_restante = pizza_inicial - pizza_comida\n",
    "\n",
    "print(f\"Sobraram {pizza_restante} pedaços de pizza\")"
   ]
  },
  {
   "cell_type": "code",
   "execution_count": null,
   "metadata": {},
   "outputs": [],
   "source": [
    "## CHALLENGE 7 - Ask the user for their name and their age. Add 1 to their age and display the output [Name] next birthday you will be [new age].\n",
    "\n",
    "nome = input(\"Digite seu nome aqui\")\n",
    "idade_atual = int(input(\"Quantos anos você tem?\"))\n",
    "\n",
    "idade_futura = idade_atual + 1\n",
    "\n",
    "print(f\"{nome} terá {idade_futura} no ano que vem\")"
   ]
  },
  {
   "cell_type": "code",
   "execution_count": null,
   "metadata": {},
   "outputs": [],
   "source": [
    "## CHALLENGE 8 - Ask for the total price of the bill, then ask how many diners there are. Divide the total bill by the number of diners and show how much each person must pay.\n",
    "\n",
    "conta = int(input(\"Qual foi o total da conta?\"))\n",
    "pessoas = int(input(\"Qual a quantidade de pessoas\"))\n",
    "\n",
    "conta_por_pessoa = conta/pessoas\n",
    "\n",
    "print(f\"O valor total será de {conta_por_pessoa} reais por pessoa\")"
   ]
  },
  {
   "cell_type": "code",
   "execution_count": null,
   "metadata": {},
   "outputs": [],
   "source": [
    "## CHALLENGE 9 - Write a program that will ask for a number of days and then will show how many hours, minutes and seconds are in that number of days.\n",
    "\n",
    "numero_dias = int(input(\"Digite a quantidade de dias\"))\n",
    "\n",
    "transformacao_horas = numero_dias * 24\n",
    "transformacao_minutos = numero_dias * 24 * 60\n",
    "transformacao_segundos = numero_dias * 24 * 60 * 60\n",
    "\n",
    "print(f\"O valor transformado em horas será {transformacao_horas}, em minutos será {transformacao_minutos} e em segundos será {transformacao_segundos}\")"
   ]
  },
  {
   "cell_type": "code",
   "execution_count": null,
   "metadata": {},
   "outputs": [],
   "source": [
    "## CHALLENGE 10 - There are 2,204 pounds in a kilogram. Ask the user to enter a weight in kilograms and convert it to pounds.\n",
    "\n",
    "pounds = int(input(\"Digite a quantidade em pounds\"))\n",
    "\n",
    "quilos = pounds * 2.204\n",
    "\n",
    "print(f\"O valor total será de {quilos} quilos\")"
   ]
  },
  {
   "cell_type": "code",
   "execution_count": null,
   "metadata": {},
   "outputs": [],
   "source": [
    "## CHALLENGE 11 - Task the user to enter a number over 100 and then enter a number under 10 and tell them how many times the smaller number goes into the larger number in a user-friendly format\n",
    "\n",
    "acima_100 = int(input(\"Qual foi o total da conta?\"))\n",
    "abaixo_10 = int(input(\"Qual a quantidade de pessoas\"))\n",
    "\n",
    "proporcao = acima_100/abaixo_10\n",
    "\n",
    "print(f\"O valor total será de {proporcao} vezes maior\")"
   ]
  },
  {
   "cell_type": "code",
   "execution_count": null,
   "metadata": {},
   "outputs": [],
   "source": [
    "## CHALLENGE 12 - Ask for two numbers. If the first one is larger than the second, display the second number first and then the first number, otherwise show the first number first and then the second.\n",
    "\n",
    "n1 = int(input(\"Digite o primeiro número\"))\n",
    "n2 = int(input(\"Digite o segundo número\"))\n",
    "\n",
    "if n1>n2:\n",
    "    print({n2},{n1})\n",
    "else:\n",
    "    print({n1},{n2})"
   ]
  },
  {
   "cell_type": "code",
   "execution_count": 8,
   "metadata": {},
   "outputs": [
    {
     "name": "stdout",
     "output_type": "stream",
     "text": [
      "Alto\n"
     ]
    }
   ],
   "source": [
    "## CHALLENGE 13 - Ask the user to enter a number that is under 20. If they enter a number that is 20 or more, display the message “Too high”, otherwise display “Thank you”. \n",
    "\n",
    "n = int(input(\"Digite um número aleatório\"))\n",
    "\n",
    "if n >= 20:\n",
    "    print(\"Alto\")\n",
    "else:\n",
    "    print(\"Obrigado\")"
   ]
  },
  {
   "cell_type": "code",
   "execution_count": 25,
   "metadata": {},
   "outputs": [
    {
     "name": "stdout",
     "output_type": "stream",
     "text": [
      "Obrigado\n"
     ]
    }
   ],
   "source": [
    "## CHALLENGE 14 - Ask the user to enter a number between 10 and 20 (inclusive). If they enter a number within this range, display the message “Thank you”, otherwise display the message “Incorrect answer”\n",
    "\n",
    "a = int(input(\"Digite um número aleatório entre 10 e 20\"))\n",
    "\n",
    "if 10 <= a <= 20:\n",
    "    print(\"Obrigado\")\n",
    "else:\n",
    "    print(\"Entrada incorreta\")"
   ]
  },
  {
   "cell_type": "code",
   "execution_count": null,
   "metadata": {},
   "outputs": [],
   "source": [
    "## CHALLENGE 15 - Ask the user to enter their favourite colour. If they enter “red”, “RED” or “Red” display the message “I like red too”, otherwise display the message “I don’t like [colour], I prefer red”.\n",
    "\n",
    "color = input(\"Digite sua cor preferida\")\n",
    "\n",
    "if color == \"red\" or color == \"Red\" or color == \"RED\":\n",
    "    print(\"Também curto vermelho\")\n",
    "else:\n",
    "    print(f\"Eu não gosto de {color}, eu prefiro vermelho\")"
   ]
  },
  {
   "cell_type": "code",
   "execution_count": null,
   "metadata": {},
   "outputs": [],
   "source": [
    "## CHALLENGE 16 - Ask the user if it is raining and convert their answer to lower case so it doesn’t matter what case they type it in. If they answer “yes”, ask if it is windy. If they answer “yes” to this second question, display the answer “It is too windy for an umbrella”, otherwise display the message “Take an umbrella”. If they did not answer yes to the first question, display the answer “Enjoy your day”.\n",
    "\n",
    "tah_chovendo = str(input(\"Está chovendo?\")).lower()\n",
    "\n",
    "if tah_chovendo == \"yes\":\n",
    "    tah_ventando = str(input(\"Está ventando?\"))\n",
    "    if tah_ventando == \"yes\":\n",
    "        print(\"Está ventando muito para usar guarda-chuva\")\n",
    "    else:\n",
    "        print(\"Pegue um guarda-chuva\")\n",
    "else:\n",
    "    print(\"Aproveite seu dia\")"
   ]
  },
  {
   "cell_type": "code",
   "execution_count": null,
   "metadata": {},
   "outputs": [],
   "source": [
    "## Ask the user’s age. If they are 18 or over, display the message “You can vote”, if they are aged 17, display the message “You can learn to drive”, if they are 16, display the message “You can buy a lottery ticket”, if they are under 16, display the message “You can go Trick\u0002or-Treating”.\n",
    "\n",
    "d = int(input(\"Digite um número aleatório\"))\n",
    "\n",
    "if d >= 18:\n",
    "    print(\"Vota\")\n",
    "elif d == 17:\n",
    "    print(\"Dirige\")\n",
    "elif d == 16:\n",
    "    print(\"Compre um bilhete premiado\")\n",
    "else:\n",
    "    print(\"Halloween\")"
   ]
  },
  {
   "cell_type": "code",
   "execution_count": 49,
   "metadata": {},
   "outputs": [
    {
     "name": "stdout",
     "output_type": "stream",
     "text": [
      "Muito alto\n"
     ]
    }
   ],
   "source": [
    "## CHALLENGE 18 - Ask the user to enter a number. If it is under 10, display the message “Too low”, if their number is between 10 and 20, display “Correct”, otherwise display “Too high”.\n",
    "\n",
    "b = int(input(\"Digite um número aleatório\"))\n",
    "\n",
    "if b < 10:\n",
    "    print(\"Muito baixo\")\n",
    "elif 10 <= b <= 20:\n",
    "    print(\"Acertou\")\n",
    "else: \n",
    "    print(\"Muito alto\")"
   ]
  },
  {
   "cell_type": "code",
   "execution_count": null,
   "metadata": {},
   "outputs": [],
   "source": [
    "## CHALLENGE 19 - Ask the user to enter 1, 2 or 3. If they enter a 1, display the message “Thank you”, if they enter a 2, display “Well done”, if they enter a 3, display “Correct”. If they enter anything else, display “Error message”.\n",
    "\n",
    "c = int(input(\"Digite um número aleatório\"))\n",
    "\n",
    "if c == 1:\n",
    "    print(\"Obrigado\")\n",
    "elif c == 2:\n",
    "    print(\"Muito bem\")\n",
    "else:\n",
    "    print(\"Erro\")"
   ]
  },
  {
   "cell_type": "code",
   "execution_count": null,
   "metadata": {},
   "outputs": [],
   "source": [
    "## CHALLENGE 20 - Ask the user to enter their first name and then display the length of their name.\n",
    "\n",
    "nome_aleat = input(\"Digite um nome aleatório\")\n",
    "print(f\"A quantidade de letras é {len(nome_aleat)} letras\")"
   ]
  },
  {
   "cell_type": "code",
   "execution_count": 4,
   "metadata": {},
   "outputs": [
    {
     "name": "stdout",
     "output_type": "stream",
     "text": [
      "O nome é JoãoSilva e tem 9 letras.\n"
     ]
    }
   ],
   "source": [
    "## CHALLENGE 21 - Ask the user to enter their first name and then ask them to enter their surname. Join them together with a space between and display the name and the length of whole name. \n",
    "\n",
    "pr_nome = input(\"Digite o primeiro nome\")\n",
    "final_nome = input(\"Digite o primeiro nome\")\n",
    "\n",
    "juntar = pr_nome + '' + final_nome\n",
    "\n",
    "print(f\"O nome é {juntar} e tem {len(juntar)} letras.\")"
   ]
  },
  {
   "cell_type": "code",
   "execution_count": null,
   "metadata": {},
   "outputs": [],
   "source": [
    "## CHALLENGE 22 - Ask the user to enter their first name and surname in lower case. Change the case to title case and join them together. Display the finished result.\n",
    "\n",
    "p_nome = input(\"Digite o primeiro nome\").title()\n",
    "f_nome = input(\"Digite o primeiro nome\").title()\n",
    "\n",
    "p_nome=p_nome.title()\n",
    "\n",
    "juntar2 = pr_nome + '' + final_nome\n",
    "\n",
    "print(f\"O nome final é {juntar2}\")"
   ]
  },
  {
   "cell_type": "code",
   "execution_count": null,
   "metadata": {},
   "outputs": [],
   "source": [
    "## CHALLENGE 23 - Ask the user to type in the first line of a nursery rhyme and display the length of the string. Ask for a starting number and an ending number and then display just that section of the text (remember Python starts counting from 0 and not 1).\n",
    "\n",
    "frase = input(\"Digite uma frase aqui\")\n",
    "tamanho = len(frase)\n",
    "print(f\"Aqui tem {tamanho} na frase\")\n",
    "\n",
    "começo = int(input(\"Digite o número do começo\"))\n",
    "final =  int(input(\"Digite o número do final\"))\n",
    "parte = (frase[começo:final])\n",
    "print(parte)"
   ]
  },
  {
   "cell_type": "code",
   "execution_count": null,
   "metadata": {},
   "outputs": [],
   "source": [
    "## CHALLENGE 24 - Ask the user to type in any word and display it in upper case. \n",
    "\n",
    "minusculo = input(\"Digite algo minúsculo\")\n",
    "maiusculo = minusculo.upper()\n",
    "print(maiusculo)"
   ]
  },
  {
   "cell_type": "code",
   "execution_count": null,
   "metadata": {},
   "outputs": [],
   "source": [
    "## CHALLENGE 25 - Ask the user to enter their first name. If the length of their first name is under five characters, ask them to enter their surname and join them together (without a space) and display the name in upper case. If the length of the first name is five or more characters, display their first name in lower case.\n",
    "\n",
    "entrada_nome = input(\"Digite o primeiro nome aqui\")\n",
    "tam = len(entrada_nome)\n",
    "\n",
    "if len(entrada_nome) < 5:\n",
    "    entrada_sobrenome = input(\"Digite o segundo nome aqui\")\n",
    "    nome_final_menor5 = entrada_nome + \" \" + entrada_sobrenome\n",
    "    print(nome_final_menor5)\n",
    "else:\n",
    "    nome_final_maior5 = entrada_nome.lower()\n",
    "    print(nome_final_maior5)"
   ]
  },
  {
   "cell_type": "code",
   "execution_count": null,
   "metadata": {},
   "outputs": [],
   "source": [
    "## CHALLENGE 27 - Ask the user to enter a number with lots of decimal places. Multiply this number by two and display the answer.\n",
    "\n",
    "decimal1 = float(input(\"Digite seu número\"))\n",
    "decimal2 = decimal1 * 2\n",
    "\n",
    "print(f\"Seu resultado é {decimal2}\")"
   ]
  },
  {
   "cell_type": "code",
   "execution_count": null,
   "metadata": {},
   "outputs": [],
   "source": [
    "## CHALLENGE 28 - Update program 027 so that it will display the answer to two decimal places.\n",
    "\n",
    "decimal1 = float(input(\"Digite seu número\"))\n",
    "decimal2 = decimal1 * 2\n",
    "redondo = round(decimal2, 2) \n",
    "\n",
    "print(f\"Seu resultado é {redondo}\")"
   ]
  },
  {
   "cell_type": "code",
   "execution_count": null,
   "metadata": {},
   "outputs": [],
   "source": [
    "## CHALLENGE 29 - Ask the user to enter an integer that is over 500. Work out the square root of that number and display it to two 030 decimal places.\n",
    "\n",
    "import math as math\n",
    "\n",
    "num = int(input(\"Coloca um número acima de 500\"))\n",
    "raiz = math.sqrt(num)\n",
    "redondo2 = round(raiz, 2)\n",
    "\n",
    "print(f\"Seu resultado é {redondo2}\")"
   ]
  },
  {
   "cell_type": "code",
   "execution_count": 18,
   "metadata": {},
   "outputs": [
    {
     "name": "stdout",
     "output_type": "stream",
     "text": [
      "Seu resultado é 3.14159\n"
     ]
    }
   ],
   "source": [
    "## CHALLENGE 30 - Display pi (π) to five decimal places. \n",
    "\n",
    "pi_total = math.pi\n",
    "\n",
    "pi_5 = round(pi_total, 5)\n",
    "\n",
    "print(f\"Seu resultado é {pi_5}\")"
   ]
  },
  {
   "cell_type": "code",
   "execution_count": null,
   "metadata": {},
   "outputs": [],
   "source": [
    "## CHALLENGE 31 - Ask the user to enter the radius of a circle (measurement from the centre point to the edge). Work out the area of the circle (π*radius2).\n",
    "\n",
    "raio = int(input(\"Digite o raio aqui\"))\n",
    "\n",
    "area_circulo = round(math.pi * (raio ** 2), 2)\n",
    "\n",
    "print(f\"A área do círuclo é {area_circulo} centímetros quadrados\")"
   ]
  },
  {
   "cell_type": "code",
   "execution_count": null,
   "metadata": {},
   "outputs": [],
   "source": [
    "## CHALLENGE 32 - Ask for the radius and the depth of a cylinder and work out the total volume (circle area*depth) rounded to three decimal places.\n",
    "\n",
    "circle_area = int(input(\"Digite a área ciruclar aqui\"))\n",
    "depth = int(input(\"Digite a área ciruclar aqui\"))\n",
    "\n",
    "volume_cilindro = circle_area * depth\n",
    "\n",
    "print(f\"A área do círuclo é {volume_cilindro} centímetros cúbicos\")"
   ]
  },
  {
   "cell_type": "code",
   "execution_count": null,
   "metadata": {},
   "outputs": [],
   "source": [
    "# CHALLENGE 33 - Ask the user to enter two numbers. Use whole number division to divide the first number by the second and also work out the remainder and display the answer in a user-friendly way (e.g. if they enter 7 and 2 display “7 divided by 2 is 3 with 1 remaining”)..\n",
    "\n",
    "num_divisor = int(input(\"Digite o primeiro número\"))\n",
    "num_dividendo = int(input(\"Digite o segundo número\"))\n",
    "\n",
    "divisao = num_divisor // num_dividendo\n",
    "resto = num_divisor % num_dividendo\n",
    "\n",
    "print(f\"A divisão resulta em {divisao} com resto {resto}\")"
   ]
  },
  {
   "cell_type": "code",
   "execution_count": null,
   "metadata": {},
   "outputs": [],
   "source": [
    "## CHALLENGE 34 Display the following message: 1) Quadrado 2) Triângulo. If the user enters 1, then it should ask them for the length of one of its sides and display the area. If they select 2, it should ask for the base and height of the triangle and display the area. If they type in anything else, it should give them a suitable error message.\n",
    "\n",
    "solicitar = int(input(\"Digite um para quadrado e dois para triângulo\"))\n",
    "\n",
    "if solicitar == 1:\n",
    "    lado_triangulo = int(input(\"Digite o lado\"))\n",
    "    base_triangulo = int(input(\"Digite a base\"))\n",
    "    area_triangulo = (lado_triangulo * base_triangulo) // 2\n",
    "    print(f\"A área do triângulo é {area_triangulo} centímetros quadrados\")\n",
    "elif solicitar == 2:\n",
    "    lado_quadrado = int(input(\"Digite o lado\"))\n",
    "    area_quadrado = lado_quadrado * lado_quadrado\n",
    "    print(f\"A área do quadrado é {area_quadrado} centímetros quadrados\")\n",
    "else:\n",
    "    print(\"A tua solicitação está errado\")"
   ]
  },
  {
   "cell_type": "code",
   "execution_count": null,
   "metadata": {},
   "outputs": [],
   "source": [
    "## CHALLENGE 35 - Ask the user to enter their name and then display their name three times. \n",
    "\n",
    "nome_ofc = input(\"Digite um nome\")\n",
    "\n",
    "for i in range(0,3):\n",
    "    print(nome_ofc)"
   ]
  },
  {
   "cell_type": "code",
   "execution_count": null,
   "metadata": {},
   "outputs": [],
   "source": [
    "## CHALLGENGE 36 - Alter program 035 so that it will ask the user to enter their name and a number and then display their name that number of times.\n",
    "\n",
    "nome_ofc2 = input(\"Digite um nome\")\n",
    "numero_ofc2 = int(input(\"Digite um número\"))\n",
    "\n",
    "for i in range(0,numero_ofc2):\n",
    "    print(nome_ofc2)"
   ]
  },
  {
   "cell_type": "code",
   "execution_count": null,
   "metadata": {},
   "outputs": [],
   "source": [
    "## CHALLGENGE 37 - Ask the user to enter their name and display each letter in their name on a separate line\n",
    "\n",
    "nome_ofc3 = input(\"Digite um nome\")\n",
    "\n",
    "for i in nome_ofc3:\n",
    "    print(i)"
   ]
  },
  {
   "cell_type": "code",
   "execution_count": null,
   "metadata": {},
   "outputs": [],
   "source": [
    "## CHALLENGE 38 - Change program 037 to also ask for a number. Display their name (one letter at a time on each line) and repeat this for the number of times they entered.\n",
    "\n",
    "nome_ofc3 = input(\"Digite um nome\")\n",
    "numero_ofc3 = int(input(\"Digite um número\"))\n",
    "\n",
    "for x in range(0,numero_ofc3):\n",
    "    for i in nome_ofc3:\n",
    "        print(i)"
   ]
  },
  {
   "cell_type": "code",
   "execution_count": null,
   "metadata": {},
   "outputs": [],
   "source": [
    "## CHALLENGE 39 - Ask the user to enter a number between 1 and 12 and then display the times table for that number. \n",
    "\n",
    "num = int(input(\"Digite o número\"))\n",
    "\n",
    "for i in range(1,13):\n",
    "    resposta = i * num\n",
    "    print(i, \"x\", num, \"=\", resposta)"
   ]
  },
  {
   "cell_type": "code",
   "execution_count": null,
   "metadata": {},
   "outputs": [],
   "source": [
    "## CHALLENGE 40 - Ask for a number below 50 and then count down from 50 to that number, making sure you show the number they entered in the output.\n",
    "\n",
    "abaixo_50 = int(input(\"Digite um número abaixo de cinquenta\"))\n",
    "\n",
    "for i in range(50, abaixo_50, -1):\n",
    "    print(i)"
   ]
  },
  {
   "cell_type": "code",
   "execution_count": null,
   "metadata": {},
   "outputs": [],
   "source": [
    "## CHALLENGE 41 - Ask the user to enter their name and a number. If the number is less than 10, then display their name that number of times; otherwise display the message “Too high” three times.\n",
    "\n",
    "nome_ofc4 = input(\"Digite um nome\")\n",
    "numero_ofc4 = int(input(\"Digite um número\"))\n",
    "\n",
    "if numero_ofc4 < 10:\n",
    "    for i in range(0,numero_ofc4):\n",
    "        print(nome_ofc4)\n",
    "else:\n",
    "    print(\"Altíssimo\")"
   ]
  },
  {
   "cell_type": "code",
   "execution_count": 60,
   "metadata": {},
   "outputs": [
    {
     "name": "stdout",
     "output_type": "stream",
     "text": [
      "O final é 5\n"
     ]
    }
   ],
   "source": [
    "## CHALLENGE 42 - Set a variable called total to 0. Ask the user to enter five numbers and after each input ask them if they want that number included. If they do, then add the number to the total. If they do not want it included, don’t add it to the total. After they have entered all five numbers, display the total.\n",
    "\n",
    "total_to = 0\n",
    "\n",
    "l1 = int(input(\"Digite um número1\"))\n",
    "p1 = (input(\"Quer número1 incluso?\"))\n",
    "\n",
    "l2 = int(input(\"Digite um número2\"))\n",
    "p2 = (input(\"Quer número2 incluso?\"))\n",
    "\n",
    "l3 = int(input(\"Digite um número3\"))\n",
    "p3 = (input(\"Quer número3 incluso?\"))\n",
    "\n",
    "l4 = int(input(\"Digite um número4\"))\n",
    "p4 = (input(\"Quer número4 incluso?\"))\n",
    "\n",
    "l5 = int(input(\"Digite um número5\"))\n",
    "p5 = (input(\"Quer número5 incluso?\"))\n",
    "\n",
    "if p1 == 'sim':\n",
    "    total_to = l1 + total_to\n",
    "\n",
    "if p2 == 'sim':\n",
    "    total_to = l1 + total_to\n",
    "\n",
    "if p3 == 'sim':\n",
    "    total_to = l1 + total_to\n",
    "\n",
    "if p4 == 'sim':\n",
    "    total_to = l1 + total_to\n",
    "\n",
    "if p5 == 'sim':\n",
    "    total_to = l1 + total_to\n",
    "\n",
    "print(f\"O final é {total_to}\")"
   ]
  },
  {
   "cell_type": "code",
   "execution_count": null,
   "metadata": {},
   "outputs": [],
   "source": [
    "## CHALLENGE 42.1 - Set a variable called total to 0. Ask the user to enter five numbers and after each input ask them if they want that number included. If they do, then add the number to the total. If they do not want it included, don’t add it to the total. After they have entered all five numbers, display the total.\n",
    "\n",
    "numero_ofc5 = 0\n",
    "\n",
    "for i in range(4):\n",
    "    pn = input(\"Deseja adicionar o número?\")\n",
    "    nn = int(input(\"Digite um número:\"))\n",
    "    if pn == 'yes':\n",
    "        numero_ofc5 += numero_ofc5 + nn\n",
    "print(f\"O resultado final é {numero_ofc5}\")"
   ]
  },
  {
   "cell_type": "code",
   "execution_count": null,
   "metadata": {},
   "outputs": [],
   "source": [
    "## CHALLENGE 43 - Ask which direction the user wants to count (up or down). If they select up, then ask them for the top number and then count from 1 to that number. If they select down, ask them to enter a number below 20 and then count down from 20 to that number. If they entered something other than up or down, display the message “I don’t understand”.\n",
    "\n",
    "escolha_numero = int(input(\"Escolha um número: \"))\n",
    "subir_descer = input(\"Deseja subir ou descer? \")\n",
    "\n",
    "if subir_descer == \"subir\":\n",
    "    for i in range(escolha_numero, 20, 1):  \n",
    "        print(i)\n",
    "elif subir_descer == \"descer\":   \n",
    "    for i in range(20, escolha_numero - 1, -1): \n",
    "        print(i)\n",
    "else:\n",
    "    print(\"Mensagem incorreta\")"
   ]
  },
  {
   "cell_type": "code",
   "execution_count": 5,
   "metadata": {},
   "outputs": [
    {
     "name": "stdout",
     "output_type": "stream",
     "text": [
      "O nome do convidado é André\n",
      "O nome do convidado é Daniel\n"
     ]
    }
   ],
   "source": [
    "## CHALLENGE 44 - Ask how many people the user wants to invite to a party. If they enter a number below 10, ask for the names and after each name display “[name] has been invited”. If they enter a number which is 10 or higher, display the message “Too many people”.\n",
    "\n",
    "convidados = int(input(\"Qual o número de convidados\"))\n",
    "\n",
    "if convidados < 5:\n",
    "    for i in range(0, convidados):\n",
    "        nomes = input(\"Qual o nome do convidado?\")\n",
    "        print(f\"O nome do convidado é {nomes}\")\n",
    "else:\n",
    "    print(\"Muitas pessoas\")"
   ]
  },
  {
   "cell_type": "code",
   "execution_count": null,
   "metadata": {},
   "outputs": [],
   "source": [
    "## CHALLENGE 45 - Set the total to 0 to start with. While the total is 50 or less, ask the user to input a number. Add that number to the total and print the message “The total is… [total]”. Stop the loop when the total is over 50.\n",
    "\n",
    "total = 0\n",
    "\n",
    "while total <= 50:\n",
    "    numero_aleat = int(input(\"Digite um número\"))\n",
    "    total = total + numero_aleat\n",
    "print(total)"
   ]
  },
  {
   "cell_type": "code",
   "execution_count": 6,
   "metadata": {},
   "outputs": [
    {
     "name": "stdout",
     "output_type": "stream",
     "text": [
      "O último número digitado foi 6\n"
     ]
    }
   ],
   "source": [
    "## CHALLENGE 46 - Ask the user to enter a number. Keep asking until they enter a value over 5 and then display the message “The last number you entered was a [number]” and stop the program.\n",
    "\n",
    "numero_ofc6 = 0\n",
    "\n",
    "while numero_ofc6 <= 5:\n",
    "    numero_ofc6 = int(input(\"Digite o número\"))\n",
    "    print(f\"O último número digitado foi {numero_ofc6}\")"
   ]
  },
  {
   "cell_type": "code",
   "execution_count": null,
   "metadata": {},
   "outputs": [],
   "source": [
    "## CHALLENGE 47 - Ask the user to enter a number and then enter another number. Add these two numbers together and then ask if they want to add another number. If they enter “y\", ask them to enter another number and keep adding numbers until they do not answer “y”. Once the loop has stopped, display the total.\n",
    "\n",
    "a1 = int(input(\"Digite um número\"))\n",
    "a2 = int(input(\"Digite outro número\"))\n",
    "\n",
    "c1 = a1 + a2\n",
    "\n",
    "p1 = input(\"Deseja adicionar outro número?\")\n",
    "\n",
    "while p1 == 'y':\n",
    "    a3 = int(input(\"Digite o terceiro número\"))\n",
    "    c1 += a3\n",
    "    p1 = input(\"Deseja adicionar outro número?\")\n",
    "    print(f\"O resultado da soma é {c1}\")"
   ]
  },
  {
   "cell_type": "code",
   "execution_count": null,
   "metadata": {},
   "outputs": [],
   "source": [
    "## CHALLENGE 48 - Ask for the name of somebody the user wants to invite to a party. After this, display the message “[name] has now been invited” and add 1 to the count. Then ask if they want to invite somebody else. Keep repeating this until they no longer want to invite anyone else to the party and then display how many people they have coming to the party.\n",
    "\n",
    "conv = input(\"Quer convidar alguém?\")\n",
    "contador = 0\n",
    "\n",
    "while conv == 'y':\n",
    "    contador += 1\n",
    "    conv2 = input(\"Quem tu quer convidar?\")\n",
    "    conv = input(\"Quer convidar alguém?\")\n",
    "resp = print(f\"Foram convidadas {contador} pessoas\")"
   ]
  },
  {
   "cell_type": "code",
   "execution_count": null,
   "metadata": {},
   "outputs": [],
   "source": [
    "## CHALLENGE 49 - Create a variable called compnum and set the value to 50. Ask the user to enter a number. While their guess is not the same as the compnum value, tell them if their guess is too low or too high and ask them to have another guess. If they enter the same value as compnum, display the message “Well done, you took [count] attempts”.\n",
    "\n",
    "compnum = 50\n",
    "contador = 0\n",
    "\n",
    "t = int(input(\"Digite um número aleatório\"))\n",
    "\n",
    "while compnum != t:\n",
    "    contador += 1\n",
    "    if compnum > t:\n",
    "        print(\"Muito alto, tente de novo!\")\n",
    "    elif compnum < t:\n",
    "        print(\"Muito baixo, tente de novo!\")\n",
    "else:\n",
    "    print(f\"Acertou em {contador+1} tentativas!\")"
   ]
  },
  {
   "cell_type": "code",
   "execution_count": null,
   "metadata": {},
   "outputs": [],
   "source": [
    "## CHALLENGE 50 - Ask the user to enter a number between 10 and 20. If they enter a value under 10, display the message “Too low” and ask them to try again. If they enter a value above 20, display the message “Too high” and ask them to try again. Keep repeating this until they enter a value that is between 10 and 20 and then display the message “Thank you”.\n",
    "\n",
    "z = int(input(\"Digite um número entre 10 e 20: \"))\n",
    "\n",
    "while z < 10 or z > 20:\n",
    "    if z > 20:\n",
    "        print(\"Muito alto!\")\n",
    "    else:\n",
    "        print(\"Muito baixo!\")\n",
    "    z = int(input(\"Tente novamente: \"))\n",
    "\n",
    "print(\"Obrigado!\")"
   ]
  },
  {
   "cell_type": "code",
   "execution_count": null,
   "metadata": {},
   "outputs": [],
   "source": [
    "## CHALLENGE 52 - Display a random integer between 1 and 100 inclusive.\n",
    "\n",
    "import random\n",
    "\n",
    "entre_1_100 = random.randint(1, 101)\n",
    "\n",
    "print(entre_1_100)"
   ]
  },
  {
   "cell_type": "code",
   "execution_count": null,
   "metadata": {},
   "outputs": [],
   "source": [
    "## CHALLENGE 53 - Display a random fruit from a list of five fruits. \n",
    "\n",
    "import random\n",
    "\n",
    "frutas = random.choice([\"banana\",\"laranja\",\"limao\"])\n",
    "\n",
    "print(frutas)"
   ]
  },
  {
   "cell_type": "code",
   "execution_count": null,
   "metadata": {},
   "outputs": [],
   "source": [
    "## CHALLENGE 54 - Randomly choose either heads or tails (“h” or “t”). Ask the user to make their choice. If their choice is the same as the randomly selected value, display the message “You win”, otherwise display “Bad luck”. At the end, tell the user if the computer selected heads or tails.\n",
    "\n",
    "moeda = random.choice([\"Cara\",\"Coroa\"])\n",
    "\n",
    "chuta = input(\"Cara ou Coroa\")\n",
    "\n",
    "if chuta == moeda:\n",
    "    print(\"Tu ganhou!\")\n",
    "else:\n",
    "    print(\"Perdeu!\")"
   ]
  },
  {
   "cell_type": "code",
   "execution_count": 15,
   "metadata": {},
   "outputs": [
    {
     "name": "stdout",
     "output_type": "stream",
     "text": [
      "Seu país tem como índice o número 0\n"
     ]
    }
   ],
   "source": [
    "## CHALLENGE 69 - Create a tuple containing the names of five countries and display the whole tuple. Ask the user to enter one of the countries that have been shown to them and then display the index number (i.e. position in the list) of that item in the tuple.\n",
    "\n",
    "paises = (\"Brasil\", \"Alemanha\", \"China\", \"Índia\", \"Inglaterra\")\n",
    "\n",
    "pais_escolhido = input(\"Escolha um país\")\n",
    "\n",
    "print(f\"Seu país tem como índice o número {paises.index(pais_escolhido)}\")"
   ]
  },
  {
   "cell_type": "code",
   "execution_count": null,
   "metadata": {},
   "outputs": [],
   "source": [
    "## CHALLENGE 70 - Add to program 069 to ask the user to enter a number and display the country in that position.\n",
    "\n",
    "paises = (\"Brasil\", \"Alemanha\", \"China\", \"Índia\", \"Inglaterra\")\n",
    "\n",
    "pais_escolhido = input(\"Escolha um número de país entre os índices\")\n",
    "\n",
    "print(f\"Seu país tem como nome {paises[int(pais_escolhido)]}\")"
   ]
  },
  {
   "cell_type": "code",
   "execution_count": 27,
   "metadata": {},
   "outputs": [
    {
     "name": "stdout",
     "output_type": "stream",
     "text": [
      "['Basquete', 'Futebas', 'Voleibol']\n"
     ]
    }
   ],
   "source": [
    "## CHALLENGE 71 - Create a list of two sports. Ask the user what their favourite sport is and add this to the end of the list. Sort the list and display it.\n",
    "\n",
    "lista1 = [\"Futebas\", \"Voleibol\"]\n",
    "\n",
    "favorito = str(input(\"Qual esporte que tu mais gosta?\"))\n",
    "\n",
    "lista1.append(favorito)\n",
    "lista1.sort()\n",
    "\n",
    "print(lista1)"
   ]
  },
  {
   "cell_type": "code",
   "execution_count": null,
   "metadata": {},
   "outputs": [],
   "source": [
    "## CHALLENGE 72 - Create a list of six school subjects. Ask the user which of these subjects they don’t like. Delete the subject they have chosen from the list before you display the list again.\n",
    "\n",
    "materias = [\"Matemática\", \"Português\", \"Química\", \"Espanhol\", \"Física\", \"Geografia\"]\n",
    "detestar = input(\"Qual matéria que tu mais detesta? \")\n",
    "\n",
    "materias.remove(detestar)\n",
    "\n",
    "print(f\"As matérias que tu gosta são: {materias}\")"
   ]
  },
  {
   "cell_type": "code",
   "execution_count": null,
   "metadata": {},
   "outputs": [],
   "source": [
    "## CHALLENGE 73 - Ask the user to enter four of their favourite foods and store them in a dictionary so that they are indexed with numbers starting from 1. Display the dictionary in full, showing the index number and the item. Ask them which they want to get rid of and remove it from the list. Sort the remaining data and display the dictionary.\n",
    "\n",
    "dict_comidas = {}\n",
    "\n",
    "for i in range(0,4):\n",
    "    comidas = input(\"Diga quatro comidas que tu gosta\")\n",
    "    dict_comidas[i] = comidas\n",
    "\n",
    "comida_removida = int(input(\"Escolha um para apagar\"))\n",
    "\n",
    "comida_removida = dict_comidas.pop(comida_removida)\n",
    "\n",
    "dict_comidas = dict(sorted(dict_comidas.items()))\n",
    "\n",
    "print(f\"Após a extração, os itens são {dict_comidas}\")"
   ]
  },
  {
   "cell_type": "code",
   "execution_count": null,
   "metadata": {},
   "outputs": [],
   "source": [
    "## CHALLENGE 74 - Enter a list of ten colours. Ask the user for a starting number between 0 and 4 and an end number between 5 and 9. Display the list for those colours between the start and end numbers the user input.\n",
    "\n",
    "lista_c = ['a','b','c','d','e','f','g','h','i','j']\n",
    "\n",
    "lista_start = int((input(\"Escolha um ponto de início entre 0 a 4\")))\n",
    "lista_end = int((input(\"Escolha um ponto de início entre 5 a 9\")))\n",
    "\n",
    "print(f\"As cores escolhidas são entre {lista_c[lista_start:lista_end]}\")"
   ]
  },
  {
   "cell_type": "code",
   "execution_count": null,
   "metadata": {},
   "outputs": [],
   "source": [
    "## CHALLENGE 75 - Create a list of four three-digit numbers. Display the list to the user, showing each item from the list on a separate line. Ask the user to enter a three-digit number. If the number they have typed in matches one in the list, display the position of that number in the list, otherwise display the message “That is not in the list”.\n",
    "\n",
    "lista_n = [100, 200, 300, 400]\n",
    "\n",
    "print(\"Os números são:\")\n",
    "for i in lista_n:\n",
    "    print(i)\n",
    "\n",
    "ch = int(input(\"Escolha um número\"))\n",
    "\n",
    "if ch in lista_n:\n",
    "    print(f\"O número está na posição {lista_n.index(ch)}\")\n",
    "else:\n",
    "    print(\"Está errado\")"
   ]
  },
  {
   "cell_type": "code",
   "execution_count": null,
   "metadata": {},
   "outputs": [],
   "source": [
    "## CHALLENGE 76 - Ask the user to enter the names of three people they want to invite to a party and store them in a list. After they have entered all three names, ask them if they want to add another. If they do, allow them to add more names until they answer “no”. When they answer “no”, display how many people they have invited to the party.\n",
    "\n",
    "lista_pedido = []\n",
    "\n",
    "for i in range(0,3):\n",
    "    pedido = str(input(\"Deseja convidar alguém?\"))\n",
    "    lista_pedido.append(pedido)\n",
    "\n",
    "pedido2 = str(input(\"Deseja convidar mais alguém?\"))\n",
    "\n",
    "while pedido2 == 'y':\n",
    "    pedido2 = str(input(\"Deseja convidar alguém?\"))\n",
    "    lista_pedido.append(pedido2)\n",
    "    str(input(\"Deseja convidar mais alguém?\"))\n",
    "    print(f\"O número de pessoas convidadas foi {len(lista_pedido)} pessoas\")\n",
    "\n",
    "print(f\"Os convidados foram: {lista_pedido}\")"
   ]
  },
  {
   "cell_type": "code",
   "execution_count": null,
   "metadata": {},
   "outputs": [],
   "source": [
    "## CHALLENGE 77 - Change program 076 so that once the user has completed their list of names, display the full list and ask them to type in one of the names on the list. Display the position of that name in the list. Ask the user if they still want that person to come to the party. If they answer “no”, delete that entry from the list and display the list again.\n",
    "\n",
    "lista_pedido = []\n",
    "\n",
    "for i in range(0,3):\n",
    "    pedido = str(input(\"Deseja convidar alguém?\"))\n",
    "lista_pedido.append(pedido)\n",
    "\n",
    "pedido2 = str(input(\"Deseja convidar mais alguém?\"))\n",
    "\n",
    "while pedido2 == 'y':\n",
    "    pedido2 = str(input(\"Deseja convidar alguém?\"))\n",
    "    lista_pedido.append(pedido2)\n",
    "    str(input(\"Deseja convidar mais alguém?\"))\n",
    "    print(f\"O número de pessoas convidadas foi {len(lista_pedido)} pessoas\")\n",
    "\n",
    "print(f\"Os convidados foram: {lista_pedido}\")\n",
    "\n",
    "verificar = input(\"Qual convidado você quer?\")\n",
    "print(f\"A posição na lista é {lista_pedido.index(verificar)}\")\n",
    "\n",
    "ainda = str(input(\"Deseja convidar mais alguém?\"))"
   ]
  },
  {
   "cell_type": "code",
   "execution_count": null,
   "metadata": {},
   "outputs": [],
   "source": [
    "## CHALLENGE 78 - Create a list containing the titles of four TV programmes and display them on separate lines. Ask the user to enter another show and a position they want it inserted into the list. Display the list again, showing all five TV programmes in their new positions.\n",
    "\n",
    "lista_tv = []\n",
    "\n",
    "for i in range(0,4):\n",
    "    tv = str(input(\"Insira um programa de TV\"))\n",
    "    lista_tv.append(tv)\n",
    "print(lista_tv)\n",
    "\n",
    "tv2 = input(\"Deseja inserir mais algum programa de TV?\")\n",
    "tv3 = int(input(\"Em que posição tu deseja inserir?\"))\n",
    "\n",
    "lista_tv.insert(tv3, tv2)\n",
    "print(lista_tv)"
   ]
  },
  {
   "cell_type": "code",
   "execution_count": null,
   "metadata": {},
   "outputs": [],
   "source": [
    "## CHALLENGE 79 - Create an empty list called “nums”. Ask the user to enter numbers. After each number is entered, add it to the end of the nums list and display the list. Once they have entered three numbers, ask them if they still want the last number they entered saved. If they say “no”, remove the last item from the list. Display the list of numbers.\n",
    "\n",
    "nums = []\n",
    "\n",
    "for i in range(0,3):\n",
    "    adicionar = int(input(\"Digite um número\"))\n",
    "    nums.append(adicionar)\n",
    "\n",
    "excluir = input(\"Quer o últmo número\")\n",
    "\n",
    "if excluir == \"yes\":\n",
    "    nums.pop(-1)\n",
    "\n",
    "print(f\"A lista atualizada fica {nums}\")"
   ]
  },
  {
   "cell_type": "code",
   "execution_count": null,
   "metadata": {},
   "outputs": [],
   "source": [
    "## CHALLENGES 80 - 96"
   ]
  },
  {
   "cell_type": "code",
   "execution_count": 33,
   "metadata": {},
   "outputs": [
    {
     "data": {
      "text/plain": [
       "[[2, 5, 8], [3, 7, 4], [1, 6, 9], [4, 2, 0]]"
      ]
     },
     "metadata": {},
     "output_type": "display_data"
    },
    {
     "data": {
      "text/plain": [
       "4"
      ]
     },
     "execution_count": 33,
     "metadata": {},
     "output_type": "execute_result"
    }
   ],
   "source": [
    "## CHALLENGE 97 - Create the following using a simple 2D list using the standard Python indexing\n",
    "## CHALLENGE 98 - Using the 2D list from program 096, ask the user to select a row and a column and display that value.\n",
    "\n",
    "lista_2d = [[2,5,8], [3,7,4],[1,6,9],[4,2,0]]\n",
    "display(lista_2d)\n",
    "\n",
    "lista_2d[1][2]"
   ]
  },
  {
   "cell_type": "code",
   "execution_count": null,
   "metadata": {},
   "outputs": [],
   "source": [
    "## CHALLENGE 99 - Using the 2D list from program 096, ask the user which row they would like displayed and display just that row. Ask them to enter a new value and add it to the end of the row and display the row again.\n",
    "\n",
    "linha = int(input(\"Escolha um número para linha\"))\n",
    "lista_2d[linha]\n",
    "print(lista_2d[linha])\n",
    "\n",
    "novovalor = int(input(\"Escolha um novo valor\"))\n",
    "lista_2d.append(novovalor)\n",
    "print(lista_2d.append(novovalor))"
   ]
  },
  {
   "cell_type": "code",
   "execution_count": null,
   "metadata": {},
   "outputs": [],
   "source": [
    "## CHALLENGE 100 - Change your previous program to ask the user which row they want displayed. Display that row. Ask which column in that row they want displayed and display the value that is held there. Ask the user if they want to change the value. If they do, ask for a new value and change the data. Finally, display the whole row again.\n",
    "\n",
    "diction = {\n",
    "    \"John\": {\"N\": 3054, \"S\": 8463, \"E\": 8441, \"W\": 2694},\n",
    "    \"Tom\": {\"N\": 4832, \"S\": 6786, \"E\": 4737, \"W\": 3612},\n",
    "    \"Anne\": {\"N\": 5239, \"S\": 4802, \"E\": 5820, \"W\": 1859},\n",
    "    \"Fiona\": {\"N\": 3904, \"S\": 8463, \"E\": 8441, \"W\": 2694}\n",
    "}\n",
    "\n",
    "nomepes = input(\"Escolha um nome\")\n",
    "regiao = input(\"Escolha uma regiao\")\n",
    "\n",
    "print(diction[nomepes][regiao]) "
   ]
  },
  {
   "cell_type": "code",
   "execution_count": null,
   "metadata": {},
   "outputs": [],
   "source": [
    "## CHALLENGE 101"
   ]
  },
  {
   "cell_type": "code",
   "execution_count": 47,
   "metadata": {},
   "outputs": [
    {
     "name": "stdout",
     "output_type": "stream",
     "text": [
      "{'Idade': 25, 'Sapato': 42}\n"
     ]
    }
   ],
   "source": [
    "## CHALLENGE 102 - Ask the user to enter the name, age and shoe size for four people. Ask for the name of one of the people in the list and display their age and shoe size.\n",
    "\n",
    "infos = {\n",
    "    \"Daniel\": {\"Idade\": 25, \"Sapato\": 42},\n",
    "    \"Luana\": {\"Idade\": 24, \"Sapato\": 36},\n",
    "    \"Pabgo\": {\"Idade\": 2, \"Sapato\": 20}\n",
    "}\n",
    "\n",
    "pelo_nome = input(\"Escolha um nome\")\n",
    "\n",
    "print(infos[pelo_nome])"
   ]
  },
  {
   "cell_type": "code",
   "execution_count": null,
   "metadata": {},
   "outputs": [],
   "source": [
    "## CHALLENGE 103 - Adapt program 102 to display the names and ages of all the people in the list but do not show their shoe size.\n",
    "\n",
    "for nome, info in infos.items():\n",
    "    print(f\"Nome: {nome}, Idade: {info['Idade']}\")"
   ]
  },
  {
   "cell_type": "code",
   "execution_count": null,
   "metadata": {},
   "outputs": [],
   "source": [
    "## CHALLENGE 104 - After gathering the four names, ages and shoe sizes, ask the user to enter the name of the person they want to remove from the list. Delete this row from the data and display the other rows on separate lines.\n",
    "\n",
    "infos2 = {\n",
    "    \"Daniel\": {\"Idade\": 25, \"Sapato\": 42},\n",
    "    \"Luana\": {\"Idade\": 24, \"Sapato\": 36},\n",
    "    \"Pabgo\": {\"Idade\": 2, \"Sapato\": 20}\n",
    "}\n",
    "\n",
    "infos2.pop(\"Luana\")\n",
    "\n",
    "print(infos2)"
   ]
  },
  {
   "cell_type": "code",
   "execution_count": null,
   "metadata": {},
   "outputs": [],
   "source": [
    "## CHALLENGE 105 - 117"
   ]
  },
  {
   "cell_type": "code",
   "execution_count": 51,
   "metadata": {},
   "outputs": [],
   "source": [
    "## CHALLENGE 118 - Define a subprogram that will ask the user to enter a number and save it as the variable “num”. Define another subprogram that will use “num” and count from 1 to that number.\n",
    "\n",
    "def save_variable():\n",
    "    n12 = int(input(\"Escolha um número\"))\n",
    "    return n12\n",
    "\n",
    "def add_one(n12):\n",
    "    n48 = n12 + 1\n",
    "    return n48"
   ]
  },
  {
   "cell_type": "code",
   "execution_count": null,
   "metadata": {},
   "outputs": [],
   "source": [
    "save_variable()"
   ]
  },
  {
   "cell_type": "code",
   "execution_count": 81,
   "metadata": {},
   "outputs": [],
   "source": [
    "## CHALLENGE 119 - Define a subprogram that will ask the user to pick a low and a high number, and then generate a random number between those two values and store it in a variable called “comp_num”.\n",
    "\n",
    "import random\n",
    "\n",
    "def numbers1():\n",
    "    low = int(input(\"Escolha um número\"))\n",
    "    high = int(input(\"Escolha um número\"))\n",
    "    comp_num = random.randint(low, high)\n",
    "    return comp_num\n",
    "\n",
    "def numbers2():\n",
    "    guess = int(input(\"Escolha um número\"))\n",
    "    return guess\n",
    "\n",
    "def comparison(comp_num, guess):\n",
    "    if comp_num != guess:\n",
    "        print(\"Tente de novo\")\n",
    "    else:\n",
    "        print(\"Tá certo!\")\n",
    "\n",
    "num_aleatorio2 = numbers1()\n",
    "palpite = numbers2()\n",
    "comparison(num_aleatorio2, palpite)"
   ]
  },
  {
   "cell_type": "code",
   "execution_count": 83,
   "metadata": {},
   "outputs": [],
   "source": [
    "## CHALLENGE 120 - If they enter a 1, it should run a subprogram that will generate two random numbers between 5 and 20, and ask the user to add them together. Work out the correct answer and return both the user’s answer and the correct answer.\n",
    "\n",
    "def adicao():\n",
    "    a1 = random.randint(5, 20)\n",
    "    a2 = random.randint(5, 20)\n",
    "    sua_resposta = int(input(\"Sua resposta é {}\"))\n",
    "    resposta_sis = a1 + a2\n",
    "    r1 = (sua_resposta, resposta_sis)\n",
    "    return r1\n",
    "\n",
    "def subtracao():\n",
    "    a3 = random.randint(25, 50)\n",
    "    a4 = random.randint(1, 25)\n",
    "    sua_resposta = int(input(\"Sua resposta é {}\"))\n",
    "    resposta_sis = a3 + a4\n",
    "    r2 = (sua_resposta, resposta_sis)\n",
    "    return r2\n",
    "\n",
    "def comparison2(sua_resposta, resposta_sis):\n",
    "    if sua_resposta == resposta_sis:\n",
    "        print(\"Correto!\")\n",
    "    else:\n",
    "        print(f\"Incorreto, a resposta é {resposta_sis}\")\n",
    "\n",
    "def main():\n",
    "    selecao = input(\"Quer adição (1) ou subtração (2)?\")\n",
    "    if selecao == \"1\":\n",
    "        sua_resposta, resposta_sis = adicao()\n",
    "    elif selecao == \"2\":\n",
    "        sua_resposta, resposta_sis = subtracao()\n",
    "    else:\n",
    "        print(\"Resposta incorreta\")"
   ]
  },
  {
   "cell_type": "code",
   "execution_count": 94,
   "metadata": {},
   "outputs": [],
   "source": [
    "## CHALLENGE 121 - Create a program that will allow the user to easily manage a list of names. \n",
    "\n",
    "def adc_nomes(lista):\n",
    "    while True:\n",
    "        nome = input(\"Digite um nome (ou 'q' para parar): \")\n",
    "        if nome.lower() == 'q':\n",
    "            break\n",
    "        lista.append(nome)\n",
    "    return lista\n",
    "\n",
    "def ver_nomes(lista):\n",
    "    print(\"Lista de nomes:\")\n",
    "    for nome in lista:\n",
    "        print(nome)\n",
    "\n",
    "def main():\n",
    "    l1 = []\n",
    "    again = \"y\"\n",
    "    while again == \"y\":\n",
    "        selecao1 = int(input(\"O que quer fazer? Adicionar (1) e ver (2): \"))\n",
    "        if selecao1 == 1:\n",
    "            l1 = adc_nomes(l1)\n",
    "        elif selecao1 == 2:\n",
    "            ver_nomes(l1)\n",
    "        else:\n",
    "            print(\"Informação incorreta\")\n",
    "        again = input(\"Deseja fazer algo mais? (y/n): \").lower()\n",
    "\n",
    "if __name__ == \"__main__\":\n",
    "    main()"
   ]
  }
 ],
 "metadata": {
  "kernelspec": {
   "display_name": "Python 3",
   "language": "python",
   "name": "python3"
  },
  "language_info": {
   "codemirror_mode": {
    "name": "ipython",
    "version": 3
   },
   "file_extension": ".py",
   "mimetype": "text/x-python",
   "name": "python",
   "nbconvert_exporter": "python",
   "pygments_lexer": "ipython3",
   "version": "3.11.4"
  }
 },
 "nbformat": 4,
 "nbformat_minor": 2
}
